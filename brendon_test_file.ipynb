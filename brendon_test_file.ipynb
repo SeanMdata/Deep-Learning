{
 "cells": [
  {
   "cell_type": "code",
   "execution_count": 1,
   "metadata": {},
   "outputs": [],
   "source": [
    "import tensorflow as tf\n",
    "from keras.layers import Dense\n",
    "import numpy as np\n",
    "import matplotlib.pyplot as plt\n",
    "# import opendatasets as od\n",
    "import os\n",
    "import cv2\n",
    "from sklearn.preprocessing import LabelBinarizer\n",
    "import keras"
   ]
  },
  {
   "cell_type": "markdown",
   "metadata": {},
   "source": [
    "# Load and Process Data"
   ]
  },
  {
   "cell_type": "code",
   "execution_count": 2,
   "metadata": {},
   "outputs": [],
   "source": [
    "# od.download('https://www.kaggle.com/datasets/gpiosenka/100-bird-species/data')"
   ]
  },
  {
   "cell_type": "code",
   "execution_count": 3,
   "metadata": {},
   "outputs": [],
   "source": [
    "# Set file path for loading data\n",
    "train_dir = 'C:/Users/bcbot/COMP_4531/Final/100-bird-species/train'\n",
    "\n",
    "# List the character files that don't need to be considered\n",
    "include = ['ALBATROSS', 'ANHINGA', 'ANTBIRD']\n",
    "categories = []\n",
    "\n",
    "# Instantiate the containers for holding image and label data\n",
    "train_data = []\n",
    "\n",
    "# Load the first 4200 files from each character file in train data\n",
    "for i in os.listdir(train_dir):\n",
    "    categories.append(i)\n",
    "    # if i in include:\n",
    "    count = 0\n",
    "    sub_directory = os.path.join(train_dir, i)\n",
    "    for j in os.listdir(sub_directory):\n",
    "        count += 1\n",
    "        if count > 10:\n",
    "            break\n",
    "        img = cv2.imread(os.path.join(sub_directory, j))\n",
    "        train_data.append([img, i])"
   ]
  },
  {
   "cell_type": "code",
   "execution_count": 4,
   "metadata": {},
   "outputs": [],
   "source": [
    "for x in train_data:\n",
    "    if x[0].shape != (224, 224, 3):\n",
    "        x[0] = cv2.resize(x[0], (224, 224))\n"
   ]
  },
  {
   "cell_type": "code",
   "execution_count": 5,
   "metadata": {},
   "outputs": [],
   "source": [
    "np.random.seed(7284)\n",
    "np.random.shuffle(train_data)"
   ]
  },
  {
   "cell_type": "code",
   "execution_count": 6,
   "metadata": {},
   "outputs": [],
   "source": [
    "lb = LabelBinarizer()\n",
    "\n",
    "X_train = []\n",
    "y_train = []\n",
    "for x, y in train_data:\n",
    "    X_train.append(x)\n",
    "    y_train.append(y)\n",
    "\n",
    "X_train = np.array(X_train)/255\n",
    "y_train = np.array(y_train)\n",
    "\n",
    "y_train = lb.fit_transform(y_train)"
   ]
  },
  {
   "cell_type": "markdown",
   "metadata": {},
   "source": [
    "# Load Model"
   ]
  },
  {
   "cell_type": "code",
   "execution_count": 7,
   "metadata": {},
   "outputs": [],
   "source": [
    "from tensorflow.keras.layers import Conv2D, BatchNormalization, MaxPooling2D, Input, Dense, Flatten\n",
    "from keras.models import Sequential"
   ]
  },
  {
   "cell_type": "code",
   "execution_count": 14,
   "metadata": {},
   "outputs": [],
   "source": [
    "model_path = 'C:/Users/bcbot/COMP_4531/Final/100-bird-species/EfficientNetB0-525-(224 X 224)- 98.97.h5'\n",
    "bmod= keras.models.load_model(model_path, custom_objects={'F1_score':'F1_score'})"
   ]
  },
  {
   "cell_type": "code",
   "execution_count": 30,
   "metadata": {},
   "outputs": [
    {
     "data": {
      "text/plain": [
       "[0.30624327063560486, 0.0]"
      ]
     },
     "execution_count": 30,
     "metadata": {},
     "output_type": "execute_result"
    }
   ],
   "source": [
    "bmod.test_on_batch(X_train[:50])"
   ]
  },
  {
   "cell_type": "code",
   "execution_count": 19,
   "metadata": {},
   "outputs": [
    {
     "name": "stdout",
     "output_type": "stream",
     "text": [
      "165/165 [==============================] - 73s 425ms/step - loss: 9.1040 - accuracy: 0.0019\n"
     ]
    },
    {
     "data": {
      "text/plain": [
       "[9.103960990905762, 0.0019047618843615055]"
      ]
     },
     "execution_count": 19,
     "metadata": {},
     "output_type": "execute_result"
    }
   ],
   "source": [
    "bmod.evaluate(X_train, y_train)"
   ]
  },
  {
   "cell_type": "code",
   "execution_count": 23,
   "metadata": {},
   "outputs": [
    {
     "data": {
      "text/plain": [
       "260"
      ]
     },
     "execution_count": 23,
     "metadata": {},
     "output_type": "execute_result"
    }
   ],
   "source": [
    "len(bmod.layers)"
   ]
  },
  {
   "cell_type": "code",
   "execution_count": 35,
   "metadata": {},
   "outputs": [
    {
     "name": "stdout",
     "output_type": "stream",
     "text": [
      "Downloading data from https://storage.googleapis.com/tensorflow/keras-applications/vgg16/vgg16_weights_tf_dim_ordering_tf_kernels_notop.h5\n",
      "58889256/58889256 [==============================] - 3s 0us/step\n",
      "Model: \"sequential_2\"\n",
      "_________________________________________________________________\n",
      " Layer (type)                Output Shape              Param #   \n",
      "=================================================================\n",
      " vgg16 (Functional)          (None, 7, 7, 512)         14714688  \n",
      "                                                                 \n",
      " flatten_2 (Flatten)         (None, 25088)             0         \n",
      "                                                                 \n",
      " dense_2 (Dense)             (None, 525)               13171725  \n",
      "                                                                 \n",
      "=================================================================\n",
      "Total params: 27,886,413\n",
      "Trainable params: 27,886,413\n",
      "Non-trainable params: 0\n",
      "_________________________________________________________________\n"
     ]
    }
   ],
   "source": [
    "from keras.applications.resnet import ResNet50\n",
    "from keras.applications.efficientnet import EfficientNetB0\n",
    "from keras.applications.vgg16 import VGG16\n",
    "\n",
    "model = Sequential()\n",
    "\n",
    "model.add(VGG16(weights= 'imagenet', include_top= False, input_shape= (224, 224, 3)))\n",
    "model.add(Flatten())\n",
    "model.add(Dense(525))\n",
    "\n",
    "model.summary()"
   ]
  },
  {
   "cell_type": "code",
   "execution_count": 40,
   "metadata": {},
   "outputs": [],
   "source": [
    "model.compile(optimizer = 'adam', loss = 'categorical_crossentropy', metrics= ['accuracy'])"
   ]
  },
  {
   "cell_type": "code",
   "execution_count": null,
   "metadata": {},
   "outputs": [],
   "source": [
    "model.evaluate(X_train, y_train)"
   ]
  },
  {
   "cell_type": "code",
   "execution_count": null,
   "metadata": {},
   "outputs": [],
   "source": [
    "np.argmax(preds[300])"
   ]
  },
  {
   "cell_type": "code",
   "execution_count": null,
   "metadata": {},
   "outputs": [],
   "source": [
    "train_data[467][1]"
   ]
  },
  {
   "cell_type": "code",
   "execution_count": null,
   "metadata": {},
   "outputs": [],
   "source": [
    "y_hat = []\n",
    "y_true = []\n",
    "\n",
    "for x in preds:\n",
    "    idx = np.argmax(x)\n",
    "    bird = categories[idx]\n",
    "    y_hat.append(bird)\n",
    "\n",
    "for x in y_train:\n",
    "    idx = np.argmax(x)\n",
    "    bird = categories[idx]\n",
    "    y_true.append(bird)"
   ]
  },
  {
   "cell_type": "code",
   "execution_count": null,
   "metadata": {},
   "outputs": [],
   "source": [
    "len(y_true[y_true == y_hat])"
   ]
  },
  {
   "cell_type": "code",
   "execution_count": 66,
   "metadata": {},
   "outputs": [
    {
     "name": "stdout",
     "output_type": "stream",
     "text": [
      "Label:  IWI\n"
     ]
    },
    {
     "data": {
      "image/png": "[encoded data removed]",
      "text/plain": [
       "<Figure size 640x480 with 1 Axes>"
      ]
     },
     "metadata": {},
     "output_type": "display_data"
    }
   ],
   "source": [
    "idx = 900\n",
    "# print('Prediction: ', y_hat[400])\n",
    "print('Label: ', train_data[idx][1])\n",
    "plt.gray()\n",
    "plt.imshow(X_train[idx], cmap='Greys')\n",
    "plt.show()"
   ]
  }
 ],
 "metadata": {
  "kernelspec": {
   "display_name": "Python 3 (ipykernel)",
   "language": "python",
   "name": "python3"
  },
  "language_info": {
   "codemirror_mode": {
    "name": "ipython",
    "version": 3
   },
   "file_extension": ".py",
   "mimetype": "text/x-python",
   "name": "python",
   "nbconvert_exporter": "python",
   "pygments_lexer": "ipython3",
   "version": "3.7.16"
  }
 },
 "nbformat": 4,
 "nbformat_minor": 4
}
